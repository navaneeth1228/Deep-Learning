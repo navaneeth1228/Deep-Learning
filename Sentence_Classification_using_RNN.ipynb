{
  "nbformat": 4,
  "nbformat_minor": 0,
  "metadata": {
    "colab": {
      "name": " Sentence Classification using RNN",
      "provenance": [],
      "collapsed_sections": [],
      "include_colab_link": true
    },
    "kernelspec": {
      "name": "python3",
      "display_name": "Python 3"
    },
    "language_info": {
      "name": "python"
    }
  },
  "cells": [
    {
      "cell_type": "markdown",
      "metadata": {
        "id": "view-in-github",
        "colab_type": "text"
      },
      "source": [
        "<a href=\"https://colab.research.google.com/github/navaneeth1228/Deep-Learning/blob/main/Sentence_Classification_using_RNN.ipynb\" target=\"_parent\"><img src=\"https://colab.research.google.com/assets/colab-badge.svg\" alt=\"Open In Colab\"/></a>"
      ]
    },
    {
      "cell_type": "code",
      "execution_count": 1,
      "metadata": {
        "id": "GxvwdToC4Ewj"
      },
      "outputs": [],
      "source": [
        "import matplotlib.pyplot as plt\n",
        "import os\n",
        "import tensorflow as tf\n",
        "from tensorflow.keras import layers"
      ]
    },
    {
      "cell_type": "code",
      "source": [
        "!wget : http://archive.ics.uci.edu/ml/machine-learning-databases/00228/smsspamcollection.zip"
      ],
      "metadata": {
        "colab": {
          "base_uri": "https://localhost:8080/"
        },
        "id": "I6p--wsZ5Gpl",
        "outputId": "45a1b4ae-ea07-4824-8305-607070eba3e5"
      },
      "execution_count": 2,
      "outputs": [
        {
          "output_type": "stream",
          "name": "stdout",
          "text": [
            ":: Scheme missing.\n",
            "--2022-06-13 05:51:17--  http://archive.ics.uci.edu/ml/machine-learning-databases/00228/smsspamcollection.zip\n",
            "Resolving archive.ics.uci.edu (archive.ics.uci.edu)... 128.195.10.252\n",
            "Connecting to archive.ics.uci.edu (archive.ics.uci.edu)|128.195.10.252|:80... connected.\n",
            "HTTP request sent, awaiting response... 200 OK\n",
            "Length: 203415 (199K) [application/x-httpd-php]\n",
            "Saving to: ‘smsspamcollection.zip’\n",
            "\n",
            "smsspamcollection.z 100%[===================>] 198.65K   962KB/s    in 0.2s    \n",
            "\n",
            "2022-06-13 05:51:18 (962 KB/s) - ‘smsspamcollection.zip’ saved [203415/203415]\n",
            "\n",
            "FINISHED --2022-06-13 05:51:18--\n",
            "Total wall clock time: 0.5s\n",
            "Downloaded: 1 files, 199K in 0.2s (962 KB/s)\n"
          ]
        }
      ]
    },
    {
      "cell_type": "code",
      "source": [
        "!unzip smsspamcollection.zip"
      ],
      "metadata": {
        "colab": {
          "base_uri": "https://localhost:8080/"
        },
        "id": "hMQHSWRm5Stw",
        "outputId": "e319e846-c744-4a54-e5d4-adcc7ab0c3a0"
      },
      "execution_count": 3,
      "outputs": [
        {
          "output_type": "stream",
          "name": "stdout",
          "text": [
            "Archive:  smsspamcollection.zip\n",
            "  inflating: SMSSpamCollection       \n",
            "  inflating: readme                  \n"
          ]
        }
      ]
    },
    {
      "cell_type": "code",
      "source": [
        "import pandas as pd"
      ],
      "metadata": {
        "id": "c19ntrdm5xvr"
      },
      "execution_count": 4,
      "outputs": []
    },
    {
      "cell_type": "code",
      "source": [
        "df = pd.read_csv(\"SMSSpamCollection\", sep=\"\\t\", header=None)\n",
        "df.head()"
      ],
      "metadata": {
        "id": "GDdIyuAB5bmn",
        "colab": {
          "base_uri": "https://localhost:8080/",
          "height": 206
        },
        "outputId": "23f409dd-66a3-4ffa-b31b-f47765bffd55"
      },
      "execution_count": 5,
      "outputs": [
        {
          "output_type": "execute_result",
          "data": {
            "text/plain": [
              "      0                                                  1\n",
              "0   ham  Go until jurong point, crazy.. Available only ...\n",
              "1   ham                      Ok lar... Joking wif u oni...\n",
              "2  spam  Free entry in 2 a wkly comp to win FA Cup fina...\n",
              "3   ham  U dun say so early hor... U c already then say...\n",
              "4   ham  Nah I don't think he goes to usf, he lives aro..."
            ],
            "text/html": [
              "\n",
              "  <div id=\"df-d75611e1-26aa-41ad-bf89-cd1f0c938ba2\">\n",
              "    <div class=\"colab-df-container\">\n",
              "      <div>\n",
              "<style scoped>\n",
              "    .dataframe tbody tr th:only-of-type {\n",
              "        vertical-align: middle;\n",
              "    }\n",
              "\n",
              "    .dataframe tbody tr th {\n",
              "        vertical-align: top;\n",
              "    }\n",
              "\n",
              "    .dataframe thead th {\n",
              "        text-align: right;\n",
              "    }\n",
              "</style>\n",
              "<table border=\"1\" class=\"dataframe\">\n",
              "  <thead>\n",
              "    <tr style=\"text-align: right;\">\n",
              "      <th></th>\n",
              "      <th>0</th>\n",
              "      <th>1</th>\n",
              "    </tr>\n",
              "  </thead>\n",
              "  <tbody>\n",
              "    <tr>\n",
              "      <th>0</th>\n",
              "      <td>ham</td>\n",
              "      <td>Go until jurong point, crazy.. Available only ...</td>\n",
              "    </tr>\n",
              "    <tr>\n",
              "      <th>1</th>\n",
              "      <td>ham</td>\n",
              "      <td>Ok lar... Joking wif u oni...</td>\n",
              "    </tr>\n",
              "    <tr>\n",
              "      <th>2</th>\n",
              "      <td>spam</td>\n",
              "      <td>Free entry in 2 a wkly comp to win FA Cup fina...</td>\n",
              "    </tr>\n",
              "    <tr>\n",
              "      <th>3</th>\n",
              "      <td>ham</td>\n",
              "      <td>U dun say so early hor... U c already then say...</td>\n",
              "    </tr>\n",
              "    <tr>\n",
              "      <th>4</th>\n",
              "      <td>ham</td>\n",
              "      <td>Nah I don't think he goes to usf, he lives aro...</td>\n",
              "    </tr>\n",
              "  </tbody>\n",
              "</table>\n",
              "</div>\n",
              "      <button class=\"colab-df-convert\" onclick=\"convertToInteractive('df-d75611e1-26aa-41ad-bf89-cd1f0c938ba2')\"\n",
              "              title=\"Convert this dataframe to an interactive table.\"\n",
              "              style=\"display:none;\">\n",
              "        \n",
              "  <svg xmlns=\"http://www.w3.org/2000/svg\" height=\"24px\"viewBox=\"0 0 24 24\"\n",
              "       width=\"24px\">\n",
              "    <path d=\"M0 0h24v24H0V0z\" fill=\"none\"/>\n",
              "    <path d=\"M18.56 5.44l.94 2.06.94-2.06 2.06-.94-2.06-.94-.94-2.06-.94 2.06-2.06.94zm-11 1L8.5 8.5l.94-2.06 2.06-.94-2.06-.94L8.5 2.5l-.94 2.06-2.06.94zm10 10l.94 2.06.94-2.06 2.06-.94-2.06-.94-.94-2.06-.94 2.06-2.06.94z\"/><path d=\"M17.41 7.96l-1.37-1.37c-.4-.4-.92-.59-1.43-.59-.52 0-1.04.2-1.43.59L10.3 9.45l-7.72 7.72c-.78.78-.78 2.05 0 2.83L4 21.41c.39.39.9.59 1.41.59.51 0 1.02-.2 1.41-.59l7.78-7.78 2.81-2.81c.8-.78.8-2.07 0-2.86zM5.41 20L4 18.59l7.72-7.72 1.47 1.35L5.41 20z\"/>\n",
              "  </svg>\n",
              "      </button>\n",
              "      \n",
              "  <style>\n",
              "    .colab-df-container {\n",
              "      display:flex;\n",
              "      flex-wrap:wrap;\n",
              "      gap: 12px;\n",
              "    }\n",
              "\n",
              "    .colab-df-convert {\n",
              "      background-color: #E8F0FE;\n",
              "      border: none;\n",
              "      border-radius: 50%;\n",
              "      cursor: pointer;\n",
              "      display: none;\n",
              "      fill: #1967D2;\n",
              "      height: 32px;\n",
              "      padding: 0 0 0 0;\n",
              "      width: 32px;\n",
              "    }\n",
              "\n",
              "    .colab-df-convert:hover {\n",
              "      background-color: #E2EBFA;\n",
              "      box-shadow: 0px 1px 2px rgba(60, 64, 67, 0.3), 0px 1px 3px 1px rgba(60, 64, 67, 0.15);\n",
              "      fill: #174EA6;\n",
              "    }\n",
              "\n",
              "    [theme=dark] .colab-df-convert {\n",
              "      background-color: #3B4455;\n",
              "      fill: #D2E3FC;\n",
              "    }\n",
              "\n",
              "    [theme=dark] .colab-df-convert:hover {\n",
              "      background-color: #434B5C;\n",
              "      box-shadow: 0px 1px 3px 1px rgba(0, 0, 0, 0.15);\n",
              "      filter: drop-shadow(0px 1px 2px rgba(0, 0, 0, 0.3));\n",
              "      fill: #FFFFFF;\n",
              "    }\n",
              "  </style>\n",
              "\n",
              "      <script>\n",
              "        const buttonEl =\n",
              "          document.querySelector('#df-d75611e1-26aa-41ad-bf89-cd1f0c938ba2 button.colab-df-convert');\n",
              "        buttonEl.style.display =\n",
              "          google.colab.kernel.accessAllowed ? 'block' : 'none';\n",
              "\n",
              "        async function convertToInteractive(key) {\n",
              "          const element = document.querySelector('#df-d75611e1-26aa-41ad-bf89-cd1f0c938ba2');\n",
              "          const dataTable =\n",
              "            await google.colab.kernel.invokeFunction('convertToInteractive',\n",
              "                                                     [key], {});\n",
              "          if (!dataTable) return;\n",
              "\n",
              "          const docLinkHtml = 'Like what you see? Visit the ' +\n",
              "            '<a target=\"_blank\" href=https://colab.research.google.com/notebooks/data_table.ipynb>data table notebook</a>'\n",
              "            + ' to learn more about interactive tables.';\n",
              "          element.innerHTML = '';\n",
              "          dataTable['output_type'] = 'display_data';\n",
              "          await google.colab.output.renderOutput(dataTable, element);\n",
              "          const docLink = document.createElement('div');\n",
              "          docLink.innerHTML = docLinkHtml;\n",
              "          element.appendChild(docLink);\n",
              "        }\n",
              "      </script>\n",
              "    </div>\n",
              "  </div>\n",
              "  "
            ]
          },
          "metadata": {},
          "execution_count": 5
        }
      ]
    },
    {
      "cell_type": "code",
      "source": [
        "import numpy as np\n",
        "import re\n",
        "import string"
      ],
      "metadata": {
        "id": "-lRVPMkJ98oy"
      },
      "execution_count": 6,
      "outputs": []
    },
    {
      "cell_type": "code",
      "source": [
        "#replacing the values for \"ham\" = 0 and \"span\" = 1 \n",
        "\n",
        "for i in range(5572):\n",
        "    if df[0][i] == \"ham\":\n",
        "        df[0][i] = 0\n",
        "    else:\n",
        "        df[0][i] = 1\n"
      ],
      "metadata": {
        "id": "ErUe0I3o9rpH"
      },
      "execution_count": 7,
      "outputs": []
    },
    {
      "cell_type": "code",
      "source": [
        "y = np.asarray(df[0]).astype('float32')\n",
        "\n",
        "from sklearn.model_selection import train_test_split\n",
        "x_train, x_test, y_train, y_test = train_test_split(df[1], y, test_size = 0.2)\n",
        "x_train, x_valid, y_train, y_valid = train_test_split(x_train, y_train, train_size=0.8)"
      ],
      "metadata": {
        "id": "HcvhvIyF-Lpv"
      },
      "execution_count": 8,
      "outputs": []
    },
    {
      "cell_type": "code",
      "source": [
        "raw_train_dataset = tf.data.Dataset.from_tensor_slices((x_train, y_train))\n",
        "raw_test_dataset = tf.data.Dataset.from_tensor_slices((x_test, y_test))\n",
        "raw_valid_dataset = tf.data.Dataset.from_tensor_slices((x_valid, y_valid))"
      ],
      "metadata": {
        "id": "lKHauLGa_eLb"
      },
      "execution_count": 9,
      "outputs": []
    },
    {
      "cell_type": "code",
      "source": [
        "def custom_standardization(input_data):\n",
        "    lowercase = tf.strings.lower(input_data)\n",
        "    stripped_html = tf.strings.regex_replace(lowercase, '<br />', ' ')\n",
        "    return tf.strings.regex_replace(\n",
        "        stripped_html,\n",
        "        f'[{re.escape(string.punctuation)}]',\n",
        "        ''\n",
        "    )"
      ],
      "metadata": {
        "id": "09i17C_GDDBB"
      },
      "execution_count": 10,
      "outputs": []
    },
    {
      "cell_type": "code",
      "source": [
        "# forming text to vector \n",
        "max_features = 10000\n",
        "sequence_length = 250\n",
        "\n",
        "vectorize_layer = layers.TextVectorization(\n",
        "    standardize=custom_standardization,\n",
        "    max_tokens=max_features,\n",
        "    output_mode='int',\n",
        "    output_sequence_length=sequence_length)\n",
        "vectorize_layer.adapt(raw_train_dataset.map(lambda x, y: x))"
      ],
      "metadata": {
        "id": "xMuM9r98CDhK"
      },
      "execution_count": 11,
      "outputs": []
    },
    {
      "cell_type": "code",
      "source": [
        "def vectorize_text(text,label):\n",
        "    text = tf.expand_dims(text,-1) # add an extra dimension to the text \n",
        "    return vectorize_layer(text),label"
      ],
      "metadata": {
        "id": "UBOWZApnKMQU"
      },
      "execution_count": 12,
      "outputs": []
    },
    {
      "cell_type": "code",
      "source": [
        "AUTOTUNE = tf.data.AUTOTUNE\n",
        "\n",
        "train_ds = raw_train_dataset.batch(32).map(vectorize_text).cache().prefetch(buffer_size=AUTOTUNE)\n",
        "val_ds = raw_valid_dataset.batch(32).map(vectorize_text).cache().prefetch(buffer_size=AUTOTUNE)\n",
        "test_ds = raw_test_dataset.batch(32).map(vectorize_text).cache().prefetch(buffer_size=AUTOTUNE)"
      ],
      "metadata": {
        "id": "EjDfYamaHyNY"
      },
      "execution_count": 13,
      "outputs": []
    },
    {
      "cell_type": "code",
      "source": [
        "train_ds"
      ],
      "metadata": {
        "colab": {
          "base_uri": "https://localhost:8080/"
        },
        "id": "5jbEncGQQ-43",
        "outputId": "a86e5ed0-5145-430a-9770-a23b1fce8fc9"
      },
      "execution_count": 14,
      "outputs": [
        {
          "output_type": "execute_result",
          "data": {
            "text/plain": [
              "<PrefetchDataset element_spec=(TensorSpec(shape=(None, 250), dtype=tf.int64, name=None), TensorSpec(shape=(None,), dtype=tf.float32, name=None))>"
            ]
          },
          "metadata": {},
          "execution_count": 14
        }
      ]
    },
    {
      "cell_type": "code",
      "source": [
        "model = tf.keras.Sequential([\n",
        "    \n",
        "    tf.keras.layers.Embedding(\n",
        "        input_dim=len(vectorize_layer.get_vocabulary()),\n",
        "        output_dim=32,\n",
        "        # Use masking to handle the variable sequence lengths\n",
        "        mask_zero=True),\n",
        "    tf.keras.layers.Bidirectional(tf.keras.layers.LSTM(64,return_sequences=True)),\n",
        "    tf.keras.layers.Bidirectional(tf.keras.layers.LSTM(32)),\n",
        "    tf.keras.layers.Dense(64, activation='relu'),\n",
        "    tf.keras.layers.Dense(1)\n",
        "])\n",
        "\n",
        "\n"
      ],
      "metadata": {
        "id": "OhoSG1sgPssc"
      },
      "execution_count": 15,
      "outputs": []
    },
    {
      "cell_type": "code",
      "source": [
        "model.compile(loss=tf.keras.losses.BinaryCrossentropy(from_logits=True),\n",
        "              optimizer=tf.keras.optimizers.Adam(1e-4),\n",
        "              metrics=['accuracy'])\n"
      ],
      "metadata": {
        "id": "Ofe_tRsAP9B7"
      },
      "execution_count": 16,
      "outputs": []
    },
    {
      "cell_type": "code",
      "source": [
        "history = model.fit(train_ds, epochs=30,\n",
        "                    validation_data=val_ds,\n",
        "                  )"
      ],
      "metadata": {
        "colab": {
          "base_uri": "https://localhost:8080/"
        },
        "id": "Pc2S29F4CCex",
        "outputId": "0c540149-c641-40d4-e149-8efb7a09d9ad"
      },
      "execution_count": 17,
      "outputs": [
        {
          "output_type": "stream",
          "name": "stdout",
          "text": [
            "Epoch 1/30\n",
            "112/112 [==============================] - 103s 741ms/step - loss: 0.6157 - accuracy: 0.8642 - val_loss: 0.4774 - val_accuracy: 0.8800\n",
            "Epoch 2/30\n",
            "112/112 [==============================] - 79s 704ms/step - loss: 0.4038 - accuracy: 0.8642 - val_loss: 0.2779 - val_accuracy: 0.8800\n",
            "Epoch 3/30\n",
            "112/112 [==============================] - 78s 699ms/step - loss: 0.1609 - accuracy: 0.9161 - val_loss: 0.1017 - val_accuracy: 0.9731\n",
            "Epoch 4/30\n",
            "112/112 [==============================] - 77s 688ms/step - loss: 0.0626 - accuracy: 0.9871 - val_loss: 0.0728 - val_accuracy: 0.9776\n",
            "Epoch 5/30\n",
            "112/112 [==============================] - 78s 698ms/step - loss: 0.0400 - accuracy: 0.9930 - val_loss: 0.0672 - val_accuracy: 0.9798\n",
            "Epoch 6/30\n",
            "112/112 [==============================] - 77s 686ms/step - loss: 0.0280 - accuracy: 0.9944 - val_loss: 0.0658 - val_accuracy: 0.9798\n",
            "Epoch 7/30\n",
            "112/112 [==============================] - 77s 685ms/step - loss: 0.0198 - accuracy: 0.9964 - val_loss: 0.0692 - val_accuracy: 0.9787\n",
            "Epoch 8/30\n",
            "112/112 [==============================] - 77s 686ms/step - loss: 0.0155 - accuracy: 0.9966 - val_loss: 0.0743 - val_accuracy: 0.9787\n",
            "Epoch 9/30\n",
            "112/112 [==============================] - 78s 698ms/step - loss: 0.0113 - accuracy: 0.9980 - val_loss: 0.0853 - val_accuracy: 0.9753\n",
            "Epoch 10/30\n",
            "112/112 [==============================] - 78s 693ms/step - loss: 0.0090 - accuracy: 0.9989 - val_loss: 0.0888 - val_accuracy: 0.9765\n",
            "Epoch 11/30\n",
            "112/112 [==============================] - 77s 687ms/step - loss: 0.0073 - accuracy: 0.9989 - val_loss: 0.0928 - val_accuracy: 0.9765\n",
            "Epoch 12/30\n",
            "112/112 [==============================] - 77s 684ms/step - loss: 0.0062 - accuracy: 0.9992 - val_loss: 0.0972 - val_accuracy: 0.9765\n",
            "Epoch 13/30\n",
            "112/112 [==============================] - 77s 688ms/step - loss: 0.0052 - accuracy: 0.9992 - val_loss: 0.1050 - val_accuracy: 0.9765\n",
            "Epoch 14/30\n",
            "112/112 [==============================] - 76s 677ms/step - loss: 0.0036 - accuracy: 0.9997 - val_loss: 0.1078 - val_accuracy: 0.9765\n",
            "Epoch 15/30\n",
            "112/112 [==============================] - 76s 679ms/step - loss: 0.0031 - accuracy: 0.9997 - val_loss: 0.1117 - val_accuracy: 0.9765\n",
            "Epoch 16/30\n",
            "112/112 [==============================] - 78s 695ms/step - loss: 0.0028 - accuracy: 0.9997 - val_loss: 0.1159 - val_accuracy: 0.9765\n",
            "Epoch 17/30\n",
            "112/112 [==============================] - 79s 710ms/step - loss: 0.0025 - accuracy: 1.0000 - val_loss: 0.1202 - val_accuracy: 0.9765\n",
            "Epoch 18/30\n",
            "112/112 [==============================] - 81s 725ms/step - loss: 0.0022 - accuracy: 1.0000 - val_loss: 0.1243 - val_accuracy: 0.9765\n",
            "Epoch 19/30\n",
            "112/112 [==============================] - 78s 697ms/step - loss: 0.0020 - accuracy: 1.0000 - val_loss: 0.1283 - val_accuracy: 0.9742\n",
            "Epoch 20/30\n",
            "112/112 [==============================] - 80s 714ms/step - loss: 0.0018 - accuracy: 1.0000 - val_loss: 0.1323 - val_accuracy: 0.9742\n",
            "Epoch 21/30\n",
            "112/112 [==============================] - 77s 691ms/step - loss: 0.0016 - accuracy: 1.0000 - val_loss: 0.1362 - val_accuracy: 0.9742\n",
            "Epoch 22/30\n",
            "112/112 [==============================] - 77s 685ms/step - loss: 0.0015 - accuracy: 1.0000 - val_loss: 0.1402 - val_accuracy: 0.9742\n",
            "Epoch 23/30\n",
            "112/112 [==============================] - 77s 683ms/step - loss: 0.0013 - accuracy: 1.0000 - val_loss: 0.1441 - val_accuracy: 0.9742\n",
            "Epoch 24/30\n",
            "112/112 [==============================] - 78s 693ms/step - loss: 0.0012 - accuracy: 1.0000 - val_loss: 0.1480 - val_accuracy: 0.9742\n",
            "Epoch 25/30\n",
            "112/112 [==============================] - 76s 680ms/step - loss: 0.0011 - accuracy: 1.0000 - val_loss: 0.1518 - val_accuracy: 0.9753\n",
            "Epoch 26/30\n",
            "112/112 [==============================] - 76s 682ms/step - loss: 0.0010 - accuracy: 1.0000 - val_loss: 0.1554 - val_accuracy: 0.9753\n",
            "Epoch 27/30\n",
            "112/112 [==============================] - 77s 683ms/step - loss: 9.2510e-04 - accuracy: 1.0000 - val_loss: 0.1590 - val_accuracy: 0.9742\n",
            "Epoch 28/30\n",
            "112/112 [==============================] - 78s 696ms/step - loss: 8.5274e-04 - accuracy: 1.0000 - val_loss: 0.1505 - val_accuracy: 0.9776\n",
            "Epoch 29/30\n",
            "112/112 [==============================] - 78s 699ms/step - loss: 7.8321e-04 - accuracy: 1.0000 - val_loss: 0.1550 - val_accuracy: 0.9776\n",
            "Epoch 30/30\n",
            "112/112 [==============================] - 77s 691ms/step - loss: 7.1916e-04 - accuracy: 1.0000 - val_loss: 0.1583 - val_accuracy: 0.9753\n"
          ]
        }
      ]
    },
    {
      "cell_type": "code",
      "source": [
        "history = history.history"
      ],
      "metadata": {
        "id": "4qq5iTPICFPZ"
      },
      "execution_count": 18,
      "outputs": []
    },
    {
      "cell_type": "code",
      "source": [
        "history.keys()"
      ],
      "metadata": {
        "colab": {
          "base_uri": "https://localhost:8080/"
        },
        "id": "tFkGPDx4VX5y",
        "outputId": "5326a5c3-4295-4b4a-f3d3-e4ef27ef6cb3"
      },
      "execution_count": 19,
      "outputs": [
        {
          "output_type": "execute_result",
          "data": {
            "text/plain": [
              "dict_keys(['loss', 'accuracy', 'val_loss', 'val_accuracy'])"
            ]
          },
          "metadata": {},
          "execution_count": 19
        }
      ]
    },
    {
      "cell_type": "code",
      "source": [
        "plt.figure(figsize=(15,5))\n",
        "plt.subplot(121)\n",
        "plt.title(\"Accuracy\")\n",
        "plt.plot(history[\"accuracy\"],label=\"train acc\")\n",
        "plt.plot(history[\"val_accuracy\"],label=\"val acc\")\n",
        "plt.legend()\n",
        "\n",
        "plt.subplot(122)\n",
        "plt.title(\"Loss\")\n",
        "plt.plot(history[\"loss\"],label=\"train loss\")\n",
        "plt.plot(history[\"val_loss\"],label=\"val loss\")\n",
        "plt.legend()\n",
        "\n",
        "plt.show()"
      ],
      "metadata": {
        "colab": {
          "base_uri": "https://localhost:8080/",
          "height": 336
        },
        "id": "xH0mPGOWVdF0",
        "outputId": "50604fa1-ff96-49a4-837d-dff85ec30913"
      },
      "execution_count": 20,
      "outputs": [
        {
          "output_type": "display_data",
          "data": {
            "text/plain": [
              "<Figure size 1080x360 with 2 Axes>"
            ],
            "image/png": "[encoded data removed]"
          },
          "metadata": {
            "needs_background": "light"
          }
        }
      ]
    }
  ]
}